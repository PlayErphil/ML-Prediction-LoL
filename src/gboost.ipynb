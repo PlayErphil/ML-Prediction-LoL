{
 "cells": [
  {
   "cell_type": "code",
   "execution_count": 1,
   "metadata": {},
   "outputs": [],
   "source": [
    "# check scikit-learn version\n",
    "import numpy as np\n",
    "from sklearn.datasets import load_boston\n",
    "from sklearn.model_selection import train_test_split\n",
    "from sklearn.metrics import classification_report, confusion_matrix\n",
    "from sklearn.ensemble import GradientBoostingClassifier\n",
    "\n",
    "\n"
   ]
  },
  {
   "cell_type": "code",
   "execution_count": 2,
   "metadata": {},
   "outputs": [
    {
     "name": "stdout",
     "output_type": "stream",
     "text": [
      "9966\n",
      "9966\n",
      "2492\n",
      "2492\n"
     ]
    }
   ],
   "source": [
    "dataset = np.loadtxt('/Users/renegonzalez/Desktop/DNN LoL/dataset.csv', delimiter=',', dtype=np.float32)\n",
    "\n",
    "# np.random.shuffle(dataset)\n",
    "\n",
    "X = dataset[:, 0:44]\n",
    "y = dataset[:, 44]\n",
    "x_train, x_test, y_train, y_test = train_test_split(X, y, test_size=0.2, random_state=12)\n",
    "\n",
    "print(len(x_train))\n",
    "print(len(y_train))\n",
    "\n",
    "print(len(x_test))\n",
    "print(len(y_test))\n"
   ]
  },
  {
   "cell_type": "code",
   "execution_count": 3,
   "metadata": {},
   "outputs": [
    {
     "name": "stdout",
     "output_type": "stream",
     "text": [
      "Learning rate:  0.05\n",
      "Accuracy score (training): 0.903\n",
      "Accuracy score (validation): 0.897\n",
      "Learning rate:  0.075\n",
      "Accuracy score (training): 0.904\n",
      "Accuracy score (validation): 0.897\n",
      "Learning rate:  0.1\n",
      "Accuracy score (training): 0.905\n",
      "Accuracy score (validation): 0.900\n",
      "Learning rate:  0.25\n",
      "Accuracy score (training): 0.916\n",
      "Accuracy score (validation): 0.901\n",
      "Learning rate:  0.5\n",
      "Accuracy score (training): 0.933\n",
      "Accuracy score (validation): 0.892\n",
      "Learning rate:  0.75\n",
      "Accuracy score (training): 0.943\n",
      "Accuracy score (validation): 0.872\n",
      "Learning rate:  1\n",
      "Accuracy score (training): 0.947\n",
      "Accuracy score (validation): 0.873\n",
      "Learning rate:  0.14\n",
      "Accuracy score (training): 0.907\n",
      "Accuracy score (validation): 0.898\n"
     ]
    }
   ],
   "source": [
    "lr_list = [0.05, 0.075, 0.1, 0.25, 0.5, 0.75, 1, 0.14]\n",
    "\n",
    "for learning_rate in lr_list:\n",
    "    gb_clf = GradientBoostingClassifier(\n",
    "        n_estimators=55, learning_rate=learning_rate)\n",
    "    gb_clf.fit(x_train, y_train)\n",
    "\n",
    "    print(\"Learning rate: \", learning_rate)\n",
    "    print(\"Accuracy score (training): {0:.3f}\".format(\n",
    "        gb_clf.score(x_train, y_train)))\n",
    "    print(\"Accuracy score (validation): {0:.3f}\".format(\n",
    "        gb_clf.score(x_test, y_test)))\n"
   ]
  },
  {
   "cell_type": "code",
   "execution_count": 4,
   "metadata": {},
   "outputs": [
    {
     "name": "stdout",
     "output_type": "stream",
     "text": [
      "Confusion Matrix:\n",
      "[[1106  125]\n",
      " [ 129 1132]]\n",
      "Classification Report\n",
      "              precision    recall  f1-score   support\n",
      "\n",
      "         0.0       0.90      0.90      0.90      1231\n",
      "         1.0       0.90      0.90      0.90      1261\n",
      "\n",
      "    accuracy                           0.90      2492\n",
      "   macro avg       0.90      0.90      0.90      2492\n",
      "weighted avg       0.90      0.90      0.90      2492\n",
      "\n"
     ]
    }
   ],
   "source": [
    "gb_clf2 = GradientBoostingClassifier(\n",
    "    n_estimators=55, learning_rate=0.14)\n",
    "gb_clf2.fit(x_train, y_train)\n",
    "predictions = gb_clf2.predict(x_test)\n",
    "\n",
    "print(\"Confusion Matrix:\")\n",
    "print(confusion_matrix(y_test, predictions))\n",
    "\n",
    "print(\"Classification Report\")\n",
    "print(classification_report(y_test, predictions))\n"
   ]
  }
 ],
 "metadata": {
  "interpreter": {
   "hash": "90f2c46069228db83046844fa7f0b05ffbba8f50647f824d2639b2bf200dcf30"
  },
  "kernelspec": {
   "display_name": "Python 3.10.1 64-bit ('env': venv)",
   "language": "python",
   "name": "python3"
  },
  "language_info": {
   "codemirror_mode": {
    "name": "ipython",
    "version": 3
   },
   "file_extension": ".py",
   "mimetype": "text/x-python",
   "name": "python",
   "nbconvert_exporter": "python",
   "pygments_lexer": "ipython3",
   "version": "3.10.1"
  },
  "orig_nbformat": 4
 },
 "nbformat": 4,
 "nbformat_minor": 2
}
