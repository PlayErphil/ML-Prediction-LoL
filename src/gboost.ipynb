{
 "cells": [
  {
   "cell_type": "code",
   "execution_count": 8,
   "metadata": {},
   "outputs": [],
   "source": [
    "# check scikit-learn version\n",
    "import numpy as np\n",
    "from sklearn.metrics import classification_report, confusion_matrix\n",
    "from sklearn.ensemble import GradientBoostingClassifier\n",
    "from sklearn.model_selection import StratifiedKFold\n",
    "import joblib\n"
   ]
  },
  {
   "cell_type": "code",
   "execution_count": 9,
   "metadata": {},
   "outputs": [
    {
     "name": "stdout",
     "output_type": "stream",
     "text": [
      "12458\n",
      "12458\n",
      "4552\n",
      "4552\n"
     ]
    }
   ],
   "source": [
    "lan_dataset = np.loadtxt('/Users/renegonzalez/Desktop/DNN LoL/lan_dataset.csv', delimiter=',', dtype=np.float32)\n",
    "na_dataset = np.loadtxt('/Users/renegonzalez/Desktop/DNN LoL/na_dataset.csv', delimiter=',', dtype=np.float32)\n",
    "\n",
    "np.random.shuffle(lan_dataset)\n",
    "np.random.shuffle(na_dataset)\n",
    "\n",
    "x_train = lan_dataset[:, 0:44]\n",
    "y_train = lan_dataset[:, 44]\n",
    "\n",
    "x_test = na_dataset[:, 0:44]\n",
    "y_test = na_dataset[:, 44]\n",
    "\n",
    "print(len(x_train))\n",
    "print(len(y_train))\n",
    "\n",
    "print(len(x_test))\n",
    "print(len(y_test))\n"
   ]
  },
  {
   "cell_type": "code",
   "execution_count": 115,
   "metadata": {},
   "outputs": [
    {
     "name": "stdout",
     "output_type": "stream",
     "text": [
      "List of possible accuracy: [0.8972712680577849, 0.8964686998394864, 0.9077046548956661, 0.8876404494382022, 0.8996789727126806, 0.8908507223113965, 0.8948635634028892, 0.8956661316211878, 0.9036144578313253, 0.9012048192771084]\n",
      "\n",
      "Maximum Accuracy That can be obtained from this model is: 90.7704654895666 %\n",
      "\n",
      "Minimum Accuracy: 88.76404494382022 %\n",
      "\n",
      "Overall Accuracy: 89.7496373938773 %\n",
      "\n",
      "Standard Deviation is: 0.005593285734975489\n"
     ]
    }
   ],
   "source": [
    "model = GradientBoostingClassifier(n_estimators=55, learning_rate=0.14)\n",
    "\n",
    "# Create StratifiedKFold object.\n",
    "skf = StratifiedKFold(n_splits=10)\n",
    "model_accu_stratified = []\n",
    "\n",
    "for train_index, test_index in skf.split(x_train, y_train):\n",
    "    x_train_fold, x_test_fold = x_train[train_index], x_train[test_index]\n",
    "    y_train_fold, y_test_fold = y_train[train_index], y_train[test_index]\n",
    "    model.fit(x_train_fold, y_train_fold)\n",
    "    model_accu_stratified.append(model.score(x_test_fold, y_test_fold))\n",
    "\n",
    "# Print the output.\n",
    "print('List of possible accuracy:', model_accu_stratified)\n",
    "print('\\nMaximum Accuracy That can be obtained from this model is:', max(model_accu_stratified)*100, '%')\n",
    "print('\\nMinimum Accuracy:', min(model_accu_stratified)*100, '%')\n",
    "print('\\nOverall Accuracy:', np.mean(model_accu_stratified)*100, '%')\n",
    "print('\\nStandard Deviation is:', np.std(model_accu_stratified))"
   ]
  },
  {
   "cell_type": "code",
   "execution_count": 10,
   "metadata": {},
   "outputs": [
    {
     "name": "stdout",
     "output_type": "stream",
     "text": [
      "Accuracy: 88.62038664323374%\n",
      "Confusion Matrix:\n",
      "[[1989  244]\n",
      " [ 274 2045]]\n",
      "Classification Report:\n",
      "              precision    recall  f1-score   support\n",
      "\n",
      "         0.0       0.88      0.89      0.88      2233\n",
      "         1.0       0.89      0.88      0.89      2319\n",
      "\n",
      "    accuracy                           0.89      4552\n",
      "   macro avg       0.89      0.89      0.89      4552\n",
      "weighted avg       0.89      0.89      0.89      4552\n",
      "\n"
     ]
    }
   ],
   "source": [
    "model = GradientBoostingClassifier(\n",
    "    n_estimators=55, learning_rate=0.14)\n",
    "model.fit(x_train, y_train)\n",
    "\n",
    "print(f'Accuracy: {model.score(x_test, y_test)*100}%')\n",
    "\n",
    "predictions = model.predict(x_test)\n",
    "\n",
    "print(\"Confusion Matrix:\")\n",
    "print(confusion_matrix(y_test, predictions))\n",
    "\n",
    "print(\"Classification Report:\")\n",
    "print(classification_report(y_test, predictions))\n"
   ]
  },
  {
   "cell_type": "code",
   "execution_count": 11,
   "metadata": {},
   "outputs": [
    {
     "data": {
      "text/plain": [
       "['finalized_model.sav']"
      ]
     },
     "execution_count": 11,
     "metadata": {},
     "output_type": "execute_result"
    }
   ],
   "source": [
    "# save the model to disk\n",
    "filename = 'finalized_model.sav'\n",
    "joblib.dump(model, filename)\n"
   ]
  }
 ],
 "metadata": {
  "interpreter": {
   "hash": "90f2c46069228db83046844fa7f0b05ffbba8f50647f824d2639b2bf200dcf30"
  },
  "kernelspec": {
   "display_name": "Python 3.10.1 64-bit ('env': venv)",
   "language": "python",
   "name": "python3"
  },
  "language_info": {
   "codemirror_mode": {
    "name": "ipython",
    "version": 3
   },
   "file_extension": ".py",
   "mimetype": "text/x-python",
   "name": "python",
   "nbconvert_exporter": "python",
   "pygments_lexer": "ipython3",
   "version": "3.10.1"
  },
  "orig_nbformat": 4
 },
 "nbformat": 4,
 "nbformat_minor": 2
}
