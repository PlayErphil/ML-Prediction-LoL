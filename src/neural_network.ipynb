{
 "cells": [
  {
   "cell_type": "markdown",
   "metadata": {},
   "source": [
    "Libraries used for this model:\n",
    "- keras\n",
    "- numpy\n",
    "- matplotlib\n",
    "- tensorflow\n",
    "- sklearn\n",
    "\n",
    "Now we import the necessary packages"
   ]
  },
  {
   "cell_type": "code",
   "execution_count": 114,
   "metadata": {},
   "outputs": [],
   "source": [
    "import numpy as np\n",
    "from matplotlib import pyplot\n",
    "from keras.initializers import HeNormal\n",
    "from keras.models import Sequential\n",
    "from keras.layers import Dense, Dropout, BatchNormalization\n",
    "from sklearn.model_selection import train_test_split"
   ]
  },
  {
   "cell_type": "markdown",
   "metadata": {},
   "source": [
    "Now we read our processed datasets, explanations on how to create the dataset can be found in the Readme.\n",
    "\n",
    "1. We are gonna use the datasets from LAN server (12458 unique ranked matches) to train our algorithm\n",
    "2. We are gonna divide the training dataset into training and validation. Having the validation 20% of the training dataset.\n",
    "3. Lastly we are gonna use the datasets from NA server (4552 unique ranked matches) to test our algorithm.\n",
    "\n",
    "Notice that the CSV file contains on each line the 44 features of the match and at the end 1 if the blue team (First team on the sample) won or 0 otherwise."
   ]
  },
  {
   "cell_type": "code",
   "execution_count": 115,
   "metadata": {},
   "outputs": [
    {
     "name": "stdout",
     "output_type": "stream",
     "text": [
      "x_train size: 9966\n",
      "y_train size: 9966\n",
      "x_val size: 2492\n",
      "y_val size: 2492\n",
      "x_test size: 4552\n",
      "y_test size: 4552\n"
     ]
    }
   ],
   "source": [
    "lan_dataset = np.loadtxt('/Users/renegonzalez/Desktop/DNN LoL/lan_dataset.csv', delimiter=',', dtype=np.float32)\n",
    "na_dataset = np.loadtxt('/Users/renegonzalez/Desktop/DNN LoL/na_dataset.csv', delimiter=',', dtype=np.float32)\n",
    "\n",
    "np.random.shuffle(lan_dataset)\n",
    "\n",
    "x_train = lan_dataset[:, 0:44]\n",
    "y_train = lan_dataset[:, 44]\n",
    "\n",
    "x_test = na_dataset[:, 0:44]\n",
    "y_test = na_dataset[:, 44]\n",
    "\n",
    "\n",
    "x_train, x_val, y_train, y_val = train_test_split(x_train, y_train, test_size=0.2)\n",
    "\n",
    "print(f'x_train size: {len(x_train)}')\n",
    "print(f'y_train size: {len(y_train)}')\n",
    "\n",
    "print(f'x_val size: {len(x_val)}')\n",
    "print(f'y_val size: {len(y_val)}')\n",
    "\n",
    "print(f'x_test size: {len(x_test)}')\n",
    "print(f'y_test size: {len(y_test)}')\n"
   ]
  },
  {
   "cell_type": "markdown",
   "metadata": {},
   "source": [
    "Now we create the model architecture using keras and following the structure described in the paper:\n",
    "\n",
    "• Alternating dropout, normalization, and dense layers for a total of 15 layers (5 dropout, 5 normalization, and 5 dense\n",
    "layers). Each group of alternating layers had 160, 128, 64, 32, and 16 neurons, in that order.\n",
    "\n",
    "- Each dropout layer had a dropout rate of 0.69%.\n",
    "- Each normalization layer utilized batch normalization.\n",
    "- Each dense layer used Exponential Linear Unit (ELU) activation, He initialization.\n",
    "- A 1 × 1 dense layer with Sigmoid activation\n",
    "\n",
    "Finally we compile using basic parameters for classification problems"
   ]
  },
  {
   "cell_type": "code",
   "execution_count": 116,
   "metadata": {},
   "outputs": [],
   "source": [
    "# Create the model architecture lol\n",
    "initializer = HeNormal()\n",
    "model = Sequential([\n",
    "    Dropout(0.69, input_dim=44),\n",
    "    BatchNormalization(),\n",
    "    Dense(160, activation='elu', kernel_initializer=initializer),\n",
    "\n",
    "    Dropout(0.69),\n",
    "    BatchNormalization(),\n",
    "    Dense(128, activation='elu', kernel_initializer=initializer),\n",
    "\n",
    "    Dropout(0.69),\n",
    "    BatchNormalization(),\n",
    "    Dense(64, activation='elu', kernel_initializer=initializer),\n",
    "\n",
    "    Dropout(0.69),\n",
    "    BatchNormalization(),\n",
    "    Dense(32, activation='elu', kernel_initializer=initializer),\n",
    "\n",
    "    Dropout(0.69),\n",
    "    BatchNormalization(),\n",
    "    Dense(16, activation='elu', kernel_initializer=initializer),\n",
    "\n",
    "    Dense(1, activation='sigmoid'),\n",
    "])\n",
    "model.compile(loss='binary_crossentropy', optimizer='adam', metrics=['accuracy'])"
   ]
  },
  {
   "cell_type": "markdown",
   "metadata": {},
   "source": [
    "Now we train the model with our train dataset and our validation dataset.\n",
    "\n",
    "**Note:**\n",
    "After multiple tests I found that 50 epochs and a batch_size of 200 are the best parameters, feel free to try change them in your code."
   ]
  },
  {
   "cell_type": "code",
   "execution_count": 117,
   "metadata": {},
   "outputs": [
    {
     "name": "stdout",
     "output_type": "stream",
     "text": [
      "Epoch 1/50\n",
      "50/50 [==============================] - 7s 27ms/step - loss: 0.7592 - accuracy: 0.5088 - val_loss: 0.6533 - val_accuracy: 0.6882\n",
      "Epoch 2/50\n",
      "50/50 [==============================] - 1s 17ms/step - loss: 0.7204 - accuracy: 0.5040 - val_loss: 0.6657 - val_accuracy: 0.6212\n",
      "Epoch 3/50\n",
      "50/50 [==============================] - 1s 14ms/step - loss: 0.7032 - accuracy: 0.5124 - val_loss: 0.6711 - val_accuracy: 0.6152\n",
      "Epoch 4/50\n",
      "50/50 [==============================] - 1s 14ms/step - loss: 0.6984 - accuracy: 0.5235 - val_loss: 0.6668 - val_accuracy: 0.6726\n",
      "Epoch 5/50\n",
      "50/50 [==============================] - 1s 11ms/step - loss: 0.6933 - accuracy: 0.5347 - val_loss: 0.6592 - val_accuracy: 0.7343\n",
      "Epoch 6/50\n",
      "50/50 [==============================] - 1s 14ms/step - loss: 0.6923 - accuracy: 0.5374 - val_loss: 0.6435 - val_accuracy: 0.7705\n",
      "Epoch 7/50\n",
      "50/50 [==============================] - 1s 13ms/step - loss: 0.6878 - accuracy: 0.5421 - val_loss: 0.6174 - val_accuracy: 0.8090\n",
      "Epoch 8/50\n",
      "50/50 [==============================] - 1s 15ms/step - loss: 0.6796 - accuracy: 0.5682 - val_loss: 0.5790 - val_accuracy: 0.8230\n",
      "Epoch 9/50\n",
      "50/50 [==============================] - 1s 16ms/step - loss: 0.6675 - accuracy: 0.5989 - val_loss: 0.5287 - val_accuracy: 0.8226\n",
      "Epoch 10/50\n",
      "50/50 [==============================] - 1s 15ms/step - loss: 0.6603 - accuracy: 0.6075 - val_loss: 0.4998 - val_accuracy: 0.8238\n",
      "Epoch 11/50\n",
      "50/50 [==============================] - 1s 15ms/step - loss: 0.6502 - accuracy: 0.6241 - val_loss: 0.4855 - val_accuracy: 0.8226\n",
      "Epoch 12/50\n",
      "50/50 [==============================] - 1s 14ms/step - loss: 0.6440 - accuracy: 0.6375 - val_loss: 0.4764 - val_accuracy: 0.8210\n",
      "Epoch 13/50\n",
      "50/50 [==============================] - 1s 16ms/step - loss: 0.6363 - accuracy: 0.6533 - val_loss: 0.4697 - val_accuracy: 0.8210\n",
      "Epoch 14/50\n",
      "50/50 [==============================] - 1s 15ms/step - loss: 0.6314 - accuracy: 0.6505 - val_loss: 0.4638 - val_accuracy: 0.8210\n",
      "Epoch 15/50\n",
      "50/50 [==============================] - 1s 14ms/step - loss: 0.6270 - accuracy: 0.6583 - val_loss: 0.4655 - val_accuracy: 0.8190\n",
      "Epoch 16/50\n",
      "50/50 [==============================] - 1s 16ms/step - loss: 0.6307 - accuracy: 0.6595 - val_loss: 0.4683 - val_accuracy: 0.8234\n",
      "Epoch 17/50\n",
      "50/50 [==============================] - 1s 14ms/step - loss: 0.6243 - accuracy: 0.6672 - val_loss: 0.4646 - val_accuracy: 0.8258\n",
      "Epoch 18/50\n",
      "50/50 [==============================] - 1s 13ms/step - loss: 0.6268 - accuracy: 0.6600 - val_loss: 0.4736 - val_accuracy: 0.8246\n",
      "Epoch 19/50\n",
      "50/50 [==============================] - 1s 13ms/step - loss: 0.6252 - accuracy: 0.6619 - val_loss: 0.4686 - val_accuracy: 0.8234\n",
      "Epoch 20/50\n",
      "50/50 [==============================] - 1s 16ms/step - loss: 0.6261 - accuracy: 0.6643 - val_loss: 0.4740 - val_accuracy: 0.8226\n",
      "Epoch 21/50\n",
      "50/50 [==============================] - 1s 15ms/step - loss: 0.6187 - accuracy: 0.6648 - val_loss: 0.4670 - val_accuracy: 0.8222\n",
      "Epoch 22/50\n",
      "50/50 [==============================] - 1s 18ms/step - loss: 0.6258 - accuracy: 0.6703 - val_loss: 0.4745 - val_accuracy: 0.8210\n",
      "Epoch 23/50\n",
      "50/50 [==============================] - 1s 14ms/step - loss: 0.6136 - accuracy: 0.6756 - val_loss: 0.4648 - val_accuracy: 0.8210\n",
      "Epoch 24/50\n",
      "50/50 [==============================] - 1s 16ms/step - loss: 0.6095 - accuracy: 0.6786 - val_loss: 0.4664 - val_accuracy: 0.8242\n",
      "Epoch 25/50\n",
      "50/50 [==============================] - 1s 13ms/step - loss: 0.6201 - accuracy: 0.6680 - val_loss: 0.4739 - val_accuracy: 0.8226\n",
      "Epoch 26/50\n",
      "50/50 [==============================] - 1s 13ms/step - loss: 0.6168 - accuracy: 0.6724 - val_loss: 0.4784 - val_accuracy: 0.8210\n",
      "Epoch 27/50\n",
      "50/50 [==============================] - 1s 13ms/step - loss: 0.6129 - accuracy: 0.6692 - val_loss: 0.4753 - val_accuracy: 0.8222\n",
      "Epoch 28/50\n",
      "50/50 [==============================] - 1s 14ms/step - loss: 0.6157 - accuracy: 0.6759 - val_loss: 0.4759 - val_accuracy: 0.8210\n",
      "Epoch 29/50\n",
      "50/50 [==============================] - 1s 15ms/step - loss: 0.6156 - accuracy: 0.6684 - val_loss: 0.4804 - val_accuracy: 0.8226\n",
      "Epoch 30/50\n",
      "50/50 [==============================] - 1s 13ms/step - loss: 0.6097 - accuracy: 0.6772 - val_loss: 0.4754 - val_accuracy: 0.8226\n",
      "Epoch 31/50\n",
      "50/50 [==============================] - 1s 13ms/step - loss: 0.6185 - accuracy: 0.6653 - val_loss: 0.4866 - val_accuracy: 0.8230\n",
      "Epoch 32/50\n",
      "50/50 [==============================] - 1s 12ms/step - loss: 0.6110 - accuracy: 0.6731 - val_loss: 0.4754 - val_accuracy: 0.8218\n",
      "Epoch 33/50\n",
      "50/50 [==============================] - 1s 11ms/step - loss: 0.6093 - accuracy: 0.6816 - val_loss: 0.4824 - val_accuracy: 0.8222\n",
      "Epoch 34/50\n",
      "50/50 [==============================] - 1s 16ms/step - loss: 0.6104 - accuracy: 0.6772 - val_loss: 0.4820 - val_accuracy: 0.8230\n",
      "Epoch 35/50\n",
      "50/50 [==============================] - 1s 13ms/step - loss: 0.6049 - accuracy: 0.6842 - val_loss: 0.4748 - val_accuracy: 0.8222\n",
      "Epoch 36/50\n",
      "50/50 [==============================] - 1s 17ms/step - loss: 0.6167 - accuracy: 0.6726 - val_loss: 0.4910 - val_accuracy: 0.8234\n",
      "Epoch 37/50\n",
      "50/50 [==============================] - 1s 18ms/step - loss: 0.6091 - accuracy: 0.6725 - val_loss: 0.4829 - val_accuracy: 0.8222\n",
      "Epoch 38/50\n",
      "50/50 [==============================] - 1s 16ms/step - loss: 0.6100 - accuracy: 0.6793 - val_loss: 0.4862 - val_accuracy: 0.8238\n",
      "Epoch 39/50\n",
      "50/50 [==============================] - 1s 13ms/step - loss: 0.6084 - accuracy: 0.6767 - val_loss: 0.4857 - val_accuracy: 0.8234\n",
      "Epoch 40/50\n",
      "50/50 [==============================] - 1s 20ms/step - loss: 0.6093 - accuracy: 0.6787 - val_loss: 0.4852 - val_accuracy: 0.8234\n",
      "Epoch 41/50\n",
      "50/50 [==============================] - 1s 14ms/step - loss: 0.6126 - accuracy: 0.6729 - val_loss: 0.4913 - val_accuracy: 0.8230\n",
      "Epoch 42/50\n",
      "50/50 [==============================] - 1s 14ms/step - loss: 0.6075 - accuracy: 0.6793 - val_loss: 0.4924 - val_accuracy: 0.8238\n",
      "Epoch 43/50\n",
      "50/50 [==============================] - 1s 14ms/step - loss: 0.6084 - accuracy: 0.6765 - val_loss: 0.4905 - val_accuracy: 0.8234\n",
      "Epoch 44/50\n",
      "50/50 [==============================] - 1s 14ms/step - loss: 0.6100 - accuracy: 0.6716 - val_loss: 0.4985 - val_accuracy: 0.8222\n",
      "Epoch 45/50\n",
      "50/50 [==============================] - 1s 16ms/step - loss: 0.6032 - accuracy: 0.6762 - val_loss: 0.4899 - val_accuracy: 0.8226\n",
      "Epoch 46/50\n",
      "50/50 [==============================] - 1s 14ms/step - loss: 0.6047 - accuracy: 0.6772 - val_loss: 0.4928 - val_accuracy: 0.8246\n",
      "Epoch 47/50\n",
      "50/50 [==============================] - 1s 11ms/step - loss: 0.6108 - accuracy: 0.6686 - val_loss: 0.5015 - val_accuracy: 0.8238\n",
      "Epoch 48/50\n",
      "50/50 [==============================] - 1s 17ms/step - loss: 0.6072 - accuracy: 0.6777 - val_loss: 0.4991 - val_accuracy: 0.8238\n",
      "Epoch 49/50\n",
      "50/50 [==============================] - 1s 16ms/step - loss: 0.6014 - accuracy: 0.6824 - val_loss: 0.4960 - val_accuracy: 0.8230\n",
      "Epoch 50/50\n",
      "50/50 [==============================] - 1s 14ms/step - loss: 0.6039 - accuracy: 0.6790 - val_loss: 0.4996 - val_accuracy: 0.8250\n"
     ]
    }
   ],
   "source": [
    "# fit the model\n",
    "history = model.fit(x_train, y_train, validation_data=(x_val, y_val), epochs=50, batch_size=200)"
   ]
  },
  {
   "cell_type": "markdown",
   "metadata": {},
   "source": [
    "Now we plot the history of loss using matplotlib"
   ]
  },
  {
   "cell_type": "code",
   "execution_count": 118,
   "metadata": {},
   "outputs": [
    {
     "data": {
      "image/png": "[encoded data removed]",
      "text/plain": [
       "<Figure size 432x288 with 1 Axes>"
      ]
     },
     "metadata": {
      "needs_background": "light"
     },
     "output_type": "display_data"
    }
   ],
   "source": [
    "# plot loss during training\n",
    "pyplot.subplot(211)\n",
    "pyplot.title('Loss')\n",
    "pyplot.plot(history.history['loss'], label='Loss')\n",
    "pyplot.plot(history.history['val_loss'], label='Validation Loss')\n",
    "pyplot.legend()\n",
    "pyplot.show()\n"
   ]
  },
  {
   "cell_type": "markdown",
   "metadata": {},
   "source": [
    "Now we plot the history of accuracy using matplotlib"
   ]
  },
  {
   "cell_type": "code",
   "execution_count": 119,
   "metadata": {},
   "outputs": [
    {
     "data": {
      "image/png": "[encoded data removed]",
      "text/plain": [
       "<Figure size 432x288 with 1 Axes>"
      ]
     },
     "metadata": {
      "needs_background": "light"
     },
     "output_type": "display_data"
    }
   ],
   "source": [
    "# plot accuracy during training\n",
    "pyplot.subplot(212)\n",
    "pyplot.title('Accuracy')\n",
    "pyplot.plot(history.history['accuracy'], label='Accuracy')\n",
    "pyplot.plot(history.history['val_accuracy'], label='Validation Accuracy')\n",
    "pyplot.legend()\n",
    "pyplot.show()\n"
   ]
  },
  {
   "cell_type": "markdown",
   "metadata": {},
   "source": [
    "And finally we evaluate our model using the training dataset, validation dataset and testing dataset."
   ]
  },
  {
   "cell_type": "code",
   "execution_count": 120,
   "metadata": {},
   "outputs": [
    {
     "name": "stdout",
     "output_type": "stream",
     "text": [
      "Train: 0.835, Validation: 0.825, Tests: 0.825\n"
     ]
    }
   ],
   "source": [
    "# evaluate the model\n",
    "_, train_acc = model.evaluate(x_train, y_train, verbose=0)\n",
    "_, val_acc = model.evaluate(x_val, y_val, verbose=0)\n",
    "_, test_acc = model.evaluate(x_test, y_test, verbose=0)\n",
    "print('Train: %.3f, Validation: %.3f, Tests: %.3f' % (train_acc, val_acc, test_acc))"
   ]
  },
  {
   "cell_type": "markdown",
   "metadata": {},
   "source": [
    "### Results\n",
    "\n",
    "Even though we trained our model with matches from LAN server we can see that it performed really well using the matches from a different server. Having an insanely high 82.5% accuracy."
   ]
  }
 ],
 "metadata": {
  "interpreter": {
   "hash": "691eb79eb72537d0883bca6d88dcdf7f09ae44591fb81d1bfe079677ef04f4ec"
  },
  "kernelspec": {
   "display_name": "Python 3.10.1 64-bit ('3.10.1': pyenv)",
   "language": "python",
   "name": "python3"
  },
  "language_info": {
   "codemirror_mode": {
    "name": "ipython",
    "version": 3
   },
   "file_extension": ".py",
   "mimetype": "text/x-python",
   "name": "python",
   "nbconvert_exporter": "python",
   "pygments_lexer": "ipython3",
   "version": "3.10.1"
  },
  "orig_nbformat": 4
 },
 "nbformat": 4,
 "nbformat_minor": 2
}
