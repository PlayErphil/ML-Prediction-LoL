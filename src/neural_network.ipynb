{
 "cells": [
  {
   "cell_type": "code",
   "execution_count": null,
   "metadata": {},
   "outputs": [],
   "source": [
    "from keras.initializers import HeNormal\n",
    "from keras.models import Sequential\n",
    "from keras.layers import Dense, Dropout, BatchNormalization\n",
    "import numpy as np"
   ]
  },
  {
   "cell_type": "code",
   "execution_count": null,
   "metadata": {},
   "outputs": [],
   "source": [
    "train_dataset = np.loadtxt('/Users/renegonzalez/Desktop/DNN LoL/train_set.csv', delimiter=',', dtype=np.float32)\n",
    "test_dataset = np.loadtxt('/Users/renegonzalez/Desktop/DNN LoL/test_set.csv', delimiter=',', dtype=np.float32)\n",
    "\n",
    "\n",
    "X_train = train_dataset[:, 0:44]\n",
    "y_train = train_dataset[:, 44]\n",
    "X_test = test_dataset[:, 0:44]\n",
    "y_test = test_dataset[:, 44]\n"
   ]
  },
  {
   "cell_type": "code",
   "execution_count": null,
   "metadata": {},
   "outputs": [],
   "source": [
    "# Create the model architecture lol\n",
    "model = Sequential()\n",
    "\n",
    "\n",
    "initializer = HeNormal()\n",
    "\n",
    "model.add(Dropout(0.69, input_dim=44))\n",
    "model.add(BatchNormalization())\n",
    "model.add(Dense(160, activation='elu', kernel_initializer=initializer))\n",
    "\n",
    "model.add(Dropout(0.69))\n",
    "model.add(BatchNormalization())\n",
    "model.add(Dense(128, activation='elu', kernel_initializer=initializer))\n",
    "\n",
    "\n",
    "model.add(Dropout(0.69))\n",
    "model.add(BatchNormalization())\n",
    "model.add(Dense(64, activation='elu', kernel_initializer=initializer))\n",
    "\n",
    "model.add(Dropout(0.69))\n",
    "model.add(BatchNormalization())\n",
    "model.add(Dense(32, activation='elu', kernel_initializer=initializer))\n",
    "\n",
    "model.add(Dropout(0.69))\n",
    "model.add(BatchNormalization())\n",
    "model.add(Dense(16, activation='elu', kernel_initializer=initializer))\n",
    "\n",
    "model.add(Dense(1, activation='sigmoid'))\n"
   ]
  },
  {
   "cell_type": "code",
   "execution_count": null,
   "metadata": {},
   "outputs": [],
   "source": [
    "# Compile and train the model\n",
    "model.compile(loss='binary_crossentropy',\n",
    "              optimizer='adam', metrics=['accuracy'])\n",
    "\n",
    "model.fit(X_train, y_train, epochs=500, batch_size=20)"
   ]
  },
  {
   "cell_type": "code",
   "execution_count": null,
   "metadata": {},
   "outputs": [],
   "source": [
    "# Printe and display the  accuracy\n",
    "_, accuracy = model.evaluate(X_train, y_train)\n",
    "print('Accuracy: %.2f' % (accuracy*100))\n"
   ]
  },
  {
   "cell_type": "code",
   "execution_count": null,
   "metadata": {},
   "outputs": [],
   "source": [
    "# Printe and display the  accuracy\n",
    "_, accuracy = model.evaluate(X_test, y_test)\n",
    "print('Accuracy: %.2f' % (accuracy*100))"
   ]
  }
 ],
 "metadata": {
  "interpreter": {
   "hash": "691eb79eb72537d0883bca6d88dcdf7f09ae44591fb81d1bfe079677ef04f4ec"
  },
  "kernelspec": {
   "display_name": "Python 3.10.1 64-bit ('3.10.1': pyenv)",
   "language": "python",
   "name": "python3"
  },
  "language_info": {
   "codemirror_mode": {
    "name": "ipython",
    "version": 3
   },
   "file_extension": ".py",
   "mimetype": "text/x-python",
   "name": "python",
   "nbconvert_exporter": "python",
   "pygments_lexer": "ipython3",
   "version": "3.10.1"
  },
  "orig_nbformat": 4
 },
 "nbformat": 4,
 "nbformat_minor": 2
}
