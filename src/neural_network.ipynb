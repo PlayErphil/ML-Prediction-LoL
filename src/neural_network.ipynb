{
 "cells": [
  {
   "cell_type": "code",
   "execution_count": 1,
   "metadata": {},
   "outputs": [
    {
     "data": {
      "text/html": [
       "<div>\n",
       "<style scoped>\n",
       "    .dataframe tbody tr th:only-of-type {\n",
       "        vertical-align: middle;\n",
       "    }\n",
       "\n",
       "    .dataframe tbody tr th {\n",
       "        vertical-align: top;\n",
       "    }\n",
       "\n",
       "    .dataframe thead th {\n",
       "        text-align: right;\n",
       "    }\n",
       "</style>\n",
       "<table border=\"1\" class=\"dataframe\">\n",
       "  <thead>\n",
       "    <tr style=\"text-align: right;\">\n",
       "      <th></th>\n",
       "      <th>Blue Mastery 1</th>\n",
       "      <th>Blue Mastery 2</th>\n",
       "      <th>Blue Mastery 3</th>\n",
       "      <th>Blue Mastery 4</th>\n",
       "      <th>Blue Mastery 5</th>\n",
       "      <th>Blue Masteries Avg</th>\n",
       "      <th>Blue Masteries Median</th>\n",
       "      <th>Blue Masteries Kurtorsis</th>\n",
       "      <th>Blue Masteries Skewness</th>\n",
       "      <th>Blue Masteries Std</th>\n",
       "      <th>...</th>\n",
       "      <th>Red Winrate 3</th>\n",
       "      <th>Red Winrate 4</th>\n",
       "      <th>Red Winrate 5</th>\n",
       "      <th>Red Winrates Avg</th>\n",
       "      <th>Red Winrates Median</th>\n",
       "      <th>Red Winrates Kurtorsis</th>\n",
       "      <th>Red Winrates Skewness</th>\n",
       "      <th>Red Winrates Std</th>\n",
       "      <th>Red Winrates Variance</th>\n",
       "      <th>Blue Won</th>\n",
       "    </tr>\n",
       "  </thead>\n",
       "  <tbody>\n",
       "    <tr>\n",
       "      <th>0</th>\n",
       "      <td>302361</td>\n",
       "      <td>32548</td>\n",
       "      <td>137831</td>\n",
       "      <td>42344</td>\n",
       "      <td>2594552</td>\n",
       "      <td>621927.2</td>\n",
       "      <td>137831.0</td>\n",
       "      <td>4.804286</td>\n",
       "      <td>2.183943</td>\n",
       "      <td>991060.524461</td>\n",
       "      <td>...</td>\n",
       "      <td>0.485714</td>\n",
       "      <td>0.333333</td>\n",
       "      <td>0.588384</td>\n",
       "      <td>0.511934</td>\n",
       "      <td>0.552239</td>\n",
       "      <td>1.755027</td>\n",
       "      <td>-1.441162</td>\n",
       "      <td>0.097786</td>\n",
       "      <td>0.009562</td>\n",
       "      <td>0</td>\n",
       "    </tr>\n",
       "    <tr>\n",
       "      <th>1</th>\n",
       "      <td>244724</td>\n",
       "      <td>55894</td>\n",
       "      <td>166393</td>\n",
       "      <td>151398</td>\n",
       "      <td>17928</td>\n",
       "      <td>127267.4</td>\n",
       "      <td>151398.0</td>\n",
       "      <td>-1.336965</td>\n",
       "      <td>0.013165</td>\n",
       "      <td>81189.183929</td>\n",
       "      <td>...</td>\n",
       "      <td>0.551136</td>\n",
       "      <td>0.641509</td>\n",
       "      <td>0.500000</td>\n",
       "      <td>0.589079</td>\n",
       "      <td>0.551136</td>\n",
       "      <td>-0.950929</td>\n",
       "      <td>0.766032</td>\n",
       "      <td>0.077926</td>\n",
       "      <td>0.006073</td>\n",
       "      <td>0</td>\n",
       "    </tr>\n",
       "    <tr>\n",
       "      <th>2</th>\n",
       "      <td>1370461</td>\n",
       "      <td>165699</td>\n",
       "      <td>328554</td>\n",
       "      <td>11922</td>\n",
       "      <td>64623</td>\n",
       "      <td>388251.8</td>\n",
       "      <td>165699.0</td>\n",
       "      <td>4.066366</td>\n",
       "      <td>1.991324</td>\n",
       "      <td>502829.634615</td>\n",
       "      <td>...</td>\n",
       "      <td>0.631579</td>\n",
       "      <td>0.535714</td>\n",
       "      <td>0.529412</td>\n",
       "      <td>0.580125</td>\n",
       "      <td>0.535714</td>\n",
       "      <td>-0.171439</td>\n",
       "      <td>0.832254</td>\n",
       "      <td>0.092372</td>\n",
       "      <td>0.008533</td>\n",
       "      <td>0</td>\n",
       "    </tr>\n",
       "    <tr>\n",
       "      <th>3</th>\n",
       "      <td>859153</td>\n",
       "      <td>8207</td>\n",
       "      <td>152833</td>\n",
       "      <td>30736</td>\n",
       "      <td>94462</td>\n",
       "      <td>229078.2</td>\n",
       "      <td>94462.0</td>\n",
       "      <td>4.494974</td>\n",
       "      <td>2.098720</td>\n",
       "      <td>319077.677286</td>\n",
       "      <td>...</td>\n",
       "      <td>0.142857</td>\n",
       "      <td>0.515789</td>\n",
       "      <td>0.523632</td>\n",
       "      <td>0.336456</td>\n",
       "      <td>0.500000</td>\n",
       "      <td>-2.252575</td>\n",
       "      <td>-0.789161</td>\n",
       "      <td>0.221190</td>\n",
       "      <td>0.048925</td>\n",
       "      <td>1</td>\n",
       "    </tr>\n",
       "    <tr>\n",
       "      <th>4</th>\n",
       "      <td>295938</td>\n",
       "      <td>326564</td>\n",
       "      <td>1812645</td>\n",
       "      <td>64742</td>\n",
       "      <td>83541</td>\n",
       "      <td>516686.0</td>\n",
       "      <td>295938.0</td>\n",
       "      <td>4.480466</td>\n",
       "      <td>2.090117</td>\n",
       "      <td>656696.848512</td>\n",
       "      <td>...</td>\n",
       "      <td>0.565284</td>\n",
       "      <td>0.600000</td>\n",
       "      <td>0.416667</td>\n",
       "      <td>0.547907</td>\n",
       "      <td>0.565284</td>\n",
       "      <td>-1.091492</td>\n",
       "      <td>0.001576</td>\n",
       "      <td>0.094206</td>\n",
       "      <td>0.008875</td>\n",
       "      <td>1</td>\n",
       "    </tr>\n",
       "  </tbody>\n",
       "</table>\n",
       "<p>5 rows × 45 columns</p>\n",
       "</div>"
      ],
      "text/plain": [
       "   Blue Mastery 1  Blue Mastery 2  Blue Mastery 3  Blue Mastery 4  \\\n",
       "0          302361           32548          137831           42344   \n",
       "1          244724           55894          166393          151398   \n",
       "2         1370461          165699          328554           11922   \n",
       "3          859153            8207          152833           30736   \n",
       "4          295938          326564         1812645           64742   \n",
       "\n",
       "   Blue Mastery 5  Blue Masteries Avg  Blue Masteries Median  \\\n",
       "0         2594552            621927.2               137831.0   \n",
       "1           17928            127267.4               151398.0   \n",
       "2           64623            388251.8               165699.0   \n",
       "3           94462            229078.2                94462.0   \n",
       "4           83541            516686.0               295938.0   \n",
       "\n",
       "   Blue Masteries Kurtorsis  Blue Masteries Skewness  Blue Masteries Std  ...  \\\n",
       "0                  4.804286                 2.183943       991060.524461  ...   \n",
       "1                 -1.336965                 0.013165        81189.183929  ...   \n",
       "2                  4.066366                 1.991324       502829.634615  ...   \n",
       "3                  4.494974                 2.098720       319077.677286  ...   \n",
       "4                  4.480466                 2.090117       656696.848512  ...   \n",
       "\n",
       "   Red Winrate 3  Red Winrate 4  Red Winrate 5  Red Winrates Avg  \\\n",
       "0       0.485714       0.333333       0.588384          0.511934   \n",
       "1       0.551136       0.641509       0.500000          0.589079   \n",
       "2       0.631579       0.535714       0.529412          0.580125   \n",
       "3       0.142857       0.515789       0.523632          0.336456   \n",
       "4       0.565284       0.600000       0.416667          0.547907   \n",
       "\n",
       "   Red Winrates Median  Red Winrates Kurtorsis  Red Winrates Skewness  \\\n",
       "0             0.552239                1.755027              -1.441162   \n",
       "1             0.551136               -0.950929               0.766032   \n",
       "2             0.535714               -0.171439               0.832254   \n",
       "3             0.500000               -2.252575              -0.789161   \n",
       "4             0.565284               -1.091492               0.001576   \n",
       "\n",
       "   Red Winrates Std  Red Winrates Variance  Blue Won  \n",
       "0          0.097786               0.009562         0  \n",
       "1          0.077926               0.006073         0  \n",
       "2          0.092372               0.008533         0  \n",
       "3          0.221190               0.048925         1  \n",
       "4          0.094206               0.008875         1  \n",
       "\n",
       "[5 rows x 45 columns]"
      ]
     },
     "execution_count": 1,
     "metadata": {},
     "output_type": "execute_result"
    }
   ],
   "source": [
    "import pandas as pd\n",
    "import numpy as np\n",
    "\n",
    "lan_df = pd.read_csv(\"/Users/renegonzalez/Desktop/DNN LoL/lan_dataset.csv\")\n",
    "na_df = pd.read_csv(\"/Users/renegonzalez/Desktop/DNN LoL/na_dataset.csv\")\n",
    "lan_df.head()\n"
   ]
  },
  {
   "cell_type": "markdown",
   "metadata": {},
   "source": [
    "Now we read our processed datasets, explanations on how to create the dataset can be found in the Readme.\n",
    "\n",
    "1. We are gonna use the datasets from LAN server (12458 unique ranked matches) to train our algorithm\n",
    "2. We are gonna divide the training dataset into training and validation. Having the validation 20% of the training dataset.\n",
    "3. Lastly we are gonna use the datasets from NA server (4552 unique ranked matches) to test our algorithm.\n",
    "\n",
    "Notice that the CSV file contains on each line the 44 features of the match and at the end 1 if the blue team (First team on the sample) won or 0 otherwise.\n"
   ]
  },
  {
   "cell_type": "code",
   "execution_count": 2,
   "metadata": {},
   "outputs": [
    {
     "name": "stdout",
     "output_type": "stream",
     "text": [
      "(12458, 44)\n",
      "(12458,)\n",
      "x_train size: 12458\n",
      "y_train size: 12458\n",
      "x_test size: 4552\n",
      "y_test size: 4552\n"
     ]
    }
   ],
   "source": [
    "lan_dataset = lan_df.to_numpy()\n",
    "na_dataset = na_df.to_numpy()\n",
    "\n",
    "np.random.shuffle(lan_dataset)\n",
    "np.random.shuffle(na_dataset)\n",
    "\n",
    "X = lan_dataset[:, 0:44]\n",
    "Y = lan_dataset[:, 44]\n",
    "\n",
    "print(X.shape)\n",
    "print(Y.shape)\n",
    "\n",
    "x_train = lan_dataset[:, 0:44]\n",
    "y_train = lan_dataset[:, 44]\n",
    "\n",
    "x_test = na_dataset[:, 0:44]\n",
    "y_test = na_dataset[:, 44]\n",
    "\n",
    "\n",
    "print(f\"x_train size: {len(x_train)}\")\n",
    "print(f\"y_train size: {len(y_train)}\")\n",
    "\n",
    "\n",
    "print(f\"x_test size: {len(x_test)}\")\n",
    "print(f\"y_test size: {len(y_test)}\")\n"
   ]
  },
  {
   "cell_type": "markdown",
   "metadata": {},
   "source": [
    "Now we create the model architecture using keras and following the structure described in the paper:\n",
    "\n",
    "• Alternating dropout, normalization, and dense layers for a total of 15 layers (5 dropout, 5 normalization, and 5 dense\n",
    "layers). Each group of alternating layers had 160, 128, 64, 32, and 16 neurons, in that order.\n",
    "\n",
    "- Each dropout layer had a dropout rate of 0.69%.\n",
    "- Each normalization layer utilized batch normalization.\n",
    "- Each dense layer used Exponential Linear Unit (ELU) activation, He initialization.\n",
    "- A 1 × 1 dense layer with Sigmoid activation\n",
    "\n",
    "Finally we compile using basic parameters for classification problems\n"
   ]
  },
  {
   "cell_type": "code",
   "execution_count": 3,
   "metadata": {},
   "outputs": [
    {
     "name": "stderr",
     "output_type": "stream",
     "text": [
      "2022-02-09 17:54:17.194714: I tensorflow/core/platform/cpu_feature_guard.cc:151] This TensorFlow binary is optimized with oneAPI Deep Neural Network Library (oneDNN) to use the following CPU instructions in performance-critical operations:  AVX2 FMA\n",
      "To enable them in other operations, rebuild TensorFlow with the appropriate compiler flags.\n"
     ]
    }
   ],
   "source": [
    "from keras.initializers import HeNormal\n",
    "from keras.models import Sequential\n",
    "from keras.layers import Dense, Dropout, BatchNormalization\n",
    "\n",
    "# Create the model architecture lol\n",
    "initializer = HeNormal()\n",
    "model = Sequential(\n",
    "    [\n",
    "        Dropout(0.69, input_dim=44),\n",
    "        BatchNormalization(),\n",
    "        Dense(160, activation=\"elu\", kernel_initializer=initializer),\n",
    "        Dropout(0.69),\n",
    "        BatchNormalization(),\n",
    "        Dense(128, activation=\"elu\", kernel_initializer=initializer),\n",
    "        Dropout(0.69),\n",
    "        BatchNormalization(),\n",
    "        Dense(64, activation=\"elu\", kernel_initializer=initializer),\n",
    "        Dropout(0.69),\n",
    "        BatchNormalization(),\n",
    "        Dense(32, activation=\"elu\", kernel_initializer=initializer),\n",
    "        Dropout(0.69),\n",
    "        BatchNormalization(),\n",
    "        Dense(16, activation=\"elu\", kernel_initializer=initializer),\n",
    "        Dense(1, activation=\"sigmoid\"),\n",
    "    ]\n",
    ")\n",
    "model.compile(loss=\"binary_crossentropy\", optimizer=\"adam\", metrics=[\"accuracy\"])\n"
   ]
  },
  {
   "cell_type": "markdown",
   "metadata": {},
   "source": [
    "Now we train the model with our train dataset and our validation dataset.\n",
    "\n",
    "**Note:**\n",
    "After multiple tests I found that 50 epochs and a batch_size of 200 are the best parameters, feel free to try change them in your code.\n"
   ]
  },
  {
   "cell_type": "code",
   "execution_count": 4,
   "metadata": {},
   "outputs": [
    {
     "name": "stdout",
     "output_type": "stream",
     "text": [
      "Epoch 1/49\n",
      "49/49 [==============================] - 6s 24ms/step - loss: 0.8449 - accuracy: 0.4950 - val_loss: 0.6365 - val_accuracy: 0.6151\n",
      "Epoch 2/49\n",
      "49/49 [==============================] - 1s 16ms/step - loss: 0.7481 - accuracy: 0.5063 - val_loss: 0.6570 - val_accuracy: 0.5200\n",
      "Epoch 3/49\n",
      "49/49 [==============================] - 1s 17ms/step - loss: 0.7144 - accuracy: 0.5235 - val_loss: 0.6646 - val_accuracy: 0.5112\n",
      "Epoch 4/49\n",
      "49/49 [==============================] - 1s 17ms/step - loss: 0.7080 - accuracy: 0.5194 - val_loss: 0.6617 - val_accuracy: 0.5174\n",
      "Epoch 5/49\n",
      "49/49 [==============================] - 1s 16ms/step - loss: 0.6972 - accuracy: 0.5293 - val_loss: 0.6544 - val_accuracy: 0.5857\n",
      "Epoch 6/49\n",
      "49/49 [==============================] - 1s 17ms/step - loss: 0.6940 - accuracy: 0.5376 - val_loss: 0.6405 - val_accuracy: 0.7065\n",
      "Epoch 7/49\n",
      "49/49 [==============================] - 1s 18ms/step - loss: 0.6905 - accuracy: 0.5415 - val_loss: 0.6235 - val_accuracy: 0.7819\n",
      "Epoch 8/49\n",
      "49/49 [==============================] - 1s 16ms/step - loss: 0.6800 - accuracy: 0.5676 - val_loss: 0.5974 - val_accuracy: 0.8115\n",
      "Epoch 9/49\n",
      "49/49 [==============================] - 1s 16ms/step - loss: 0.6701 - accuracy: 0.5879 - val_loss: 0.5535 - val_accuracy: 0.8155\n",
      "Epoch 10/49\n",
      "49/49 [==============================] - 1s 17ms/step - loss: 0.6684 - accuracy: 0.5997 - val_loss: 0.5370 - val_accuracy: 0.8146\n",
      "Epoch 11/49\n",
      "49/49 [==============================] - 1s 16ms/step - loss: 0.6567 - accuracy: 0.6141 - val_loss: 0.5123 - val_accuracy: 0.8159\n",
      "Epoch 12/49\n",
      "49/49 [==============================] - 1s 17ms/step - loss: 0.6451 - accuracy: 0.6373 - val_loss: 0.4899 - val_accuracy: 0.8150\n",
      "Epoch 13/49\n",
      "49/49 [==============================] - 1s 19ms/step - loss: 0.6462 - accuracy: 0.6395 - val_loss: 0.4937 - val_accuracy: 0.8192\n",
      "Epoch 14/49\n",
      "49/49 [==============================] - 1s 16ms/step - loss: 0.6445 - accuracy: 0.6387 - val_loss: 0.4887 - val_accuracy: 0.8196\n",
      "Epoch 15/49\n",
      "49/49 [==============================] - 1s 18ms/step - loss: 0.6323 - accuracy: 0.6562 - val_loss: 0.4811 - val_accuracy: 0.8179\n",
      "Epoch 16/49\n",
      "49/49 [==============================] - 1s 15ms/step - loss: 0.6321 - accuracy: 0.6578 - val_loss: 0.4801 - val_accuracy: 0.8196\n",
      "Epoch 17/49\n",
      "49/49 [==============================] - 1s 20ms/step - loss: 0.6338 - accuracy: 0.6533 - val_loss: 0.4821 - val_accuracy: 0.8196\n",
      "Epoch 18/49\n",
      "49/49 [==============================] - 1s 18ms/step - loss: 0.6226 - accuracy: 0.6641 - val_loss: 0.4717 - val_accuracy: 0.8210\n",
      "Epoch 19/49\n",
      "49/49 [==============================] - 1s 20ms/step - loss: 0.6273 - accuracy: 0.6584 - val_loss: 0.4826 - val_accuracy: 0.8199\n",
      "Epoch 20/49\n",
      "49/49 [==============================] - 1s 16ms/step - loss: 0.6256 - accuracy: 0.6643 - val_loss: 0.4743 - val_accuracy: 0.8192\n",
      "Epoch 21/49\n",
      "49/49 [==============================] - 1s 18ms/step - loss: 0.6229 - accuracy: 0.6691 - val_loss: 0.4742 - val_accuracy: 0.8207\n",
      "Epoch 22/49\n",
      "49/49 [==============================] - 1s 17ms/step - loss: 0.6186 - accuracy: 0.6700 - val_loss: 0.4730 - val_accuracy: 0.8216\n",
      "Epoch 23/49\n",
      "49/49 [==============================] - 1s 15ms/step - loss: 0.6222 - accuracy: 0.6685 - val_loss: 0.4770 - val_accuracy: 0.8201\n",
      "Epoch 24/49\n",
      "49/49 [==============================] - 1s 17ms/step - loss: 0.6207 - accuracy: 0.6694 - val_loss: 0.4773 - val_accuracy: 0.8192\n",
      "Epoch 25/49\n",
      "49/49 [==============================] - 1s 18ms/step - loss: 0.6251 - accuracy: 0.6632 - val_loss: 0.4844 - val_accuracy: 0.8232\n",
      "Epoch 26/49\n",
      "49/49 [==============================] - 1s 16ms/step - loss: 0.6149 - accuracy: 0.6698 - val_loss: 0.4729 - val_accuracy: 0.8223\n",
      "Epoch 27/49\n",
      "49/49 [==============================] - 1s 15ms/step - loss: 0.6202 - accuracy: 0.6727 - val_loss: 0.4798 - val_accuracy: 0.8238\n",
      "Epoch 28/49\n",
      "49/49 [==============================] - 1s 15ms/step - loss: 0.6191 - accuracy: 0.6712 - val_loss: 0.4789 - val_accuracy: 0.8225\n",
      "Epoch 29/49\n",
      "49/49 [==============================] - 1s 16ms/step - loss: 0.6175 - accuracy: 0.6699 - val_loss: 0.4783 - val_accuracy: 0.8262\n",
      "Epoch 30/49\n",
      "49/49 [==============================] - 1s 16ms/step - loss: 0.6139 - accuracy: 0.6686 - val_loss: 0.4749 - val_accuracy: 0.8240\n",
      "Epoch 31/49\n",
      "49/49 [==============================] - 1s 17ms/step - loss: 0.6153 - accuracy: 0.6764 - val_loss: 0.4788 - val_accuracy: 0.8236\n",
      "Epoch 32/49\n",
      "49/49 [==============================] - 1s 17ms/step - loss: 0.6050 - accuracy: 0.6869 - val_loss: 0.4723 - val_accuracy: 0.8225\n",
      "Epoch 33/49\n",
      "49/49 [==============================] - 1s 16ms/step - loss: 0.6181 - accuracy: 0.6735 - val_loss: 0.4864 - val_accuracy: 0.8218\n",
      "Epoch 34/49\n",
      "49/49 [==============================] - 1s 18ms/step - loss: 0.6167 - accuracy: 0.6736 - val_loss: 0.4886 - val_accuracy: 0.8216\n",
      "Epoch 35/49\n",
      "49/49 [==============================] - 1s 16ms/step - loss: 0.6159 - accuracy: 0.6703 - val_loss: 0.4831 - val_accuracy: 0.8218\n",
      "Epoch 36/49\n",
      "49/49 [==============================] - 1s 19ms/step - loss: 0.6195 - accuracy: 0.6691 - val_loss: 0.4966 - val_accuracy: 0.8225\n",
      "Epoch 37/49\n",
      "49/49 [==============================] - 1s 19ms/step - loss: 0.6124 - accuracy: 0.6692 - val_loss: 0.4864 - val_accuracy: 0.8216\n",
      "Epoch 38/49\n",
      "49/49 [==============================] - 1s 16ms/step - loss: 0.6110 - accuracy: 0.6736 - val_loss: 0.4899 - val_accuracy: 0.8229\n",
      "Epoch 39/49\n",
      "49/49 [==============================] - 1s 16ms/step - loss: 0.6142 - accuracy: 0.6696 - val_loss: 0.4916 - val_accuracy: 0.8243\n",
      "Epoch 40/49\n",
      "49/49 [==============================] - 1s 16ms/step - loss: 0.6124 - accuracy: 0.6703 - val_loss: 0.4924 - val_accuracy: 0.8247\n",
      "Epoch 41/49\n",
      "49/49 [==============================] - 1s 19ms/step - loss: 0.6098 - accuracy: 0.6769 - val_loss: 0.4890 - val_accuracy: 0.8247\n",
      "Epoch 42/49\n",
      "49/49 [==============================] - 1s 17ms/step - loss: 0.6118 - accuracy: 0.6736 - val_loss: 0.4964 - val_accuracy: 0.8221\n",
      "Epoch 43/49\n",
      "49/49 [==============================] - 1s 18ms/step - loss: 0.6057 - accuracy: 0.6771 - val_loss: 0.4923 - val_accuracy: 0.8232\n",
      "Epoch 44/49\n",
      "49/49 [==============================] - 1s 18ms/step - loss: 0.6087 - accuracy: 0.6760 - val_loss: 0.4911 - val_accuracy: 0.8240\n",
      "Epoch 45/49\n",
      "49/49 [==============================] - 1s 20ms/step - loss: 0.6026 - accuracy: 0.6772 - val_loss: 0.4899 - val_accuracy: 0.8254\n",
      "Epoch 46/49\n",
      "49/49 [==============================] - 1s 19ms/step - loss: 0.6082 - accuracy: 0.6729 - val_loss: 0.4951 - val_accuracy: 0.8216\n",
      "Epoch 47/49\n",
      "49/49 [==============================] - 1s 19ms/step - loss: 0.6097 - accuracy: 0.6734 - val_loss: 0.4967 - val_accuracy: 0.8229\n",
      "Epoch 48/49\n",
      "49/49 [==============================] - 1s 18ms/step - loss: 0.6088 - accuracy: 0.6774 - val_loss: 0.5025 - val_accuracy: 0.8249\n",
      "Epoch 49/49\n",
      "49/49 [==============================] - 1s 18ms/step - loss: 0.6012 - accuracy: 0.6854 - val_loss: 0.4964 - val_accuracy: 0.8223\n"
     ]
    }
   ],
   "source": [
    "# fit the model\n",
    "history = model.fit(\n",
    "    x_train, y_train, validation_data=(x_test, y_test), epochs=49, batch_size=256\n",
    ")\n"
   ]
  },
  {
   "cell_type": "markdown",
   "metadata": {},
   "source": [
    "And finally we evaluate our model using the training dataset, validation dataset and testing dataset.\n"
   ]
  },
  {
   "cell_type": "code",
   "execution_count": 5,
   "metadata": {},
   "outputs": [
    {
     "name": "stdout",
     "output_type": "stream",
     "text": [
      "Train Accuracy: 83.05%\n",
      "Test Accuracy: 82.23%\n"
     ]
    }
   ],
   "source": [
    "# evaluate the model\n",
    "_, train_acc = model.evaluate(x_train, y_train, verbose=0)\n",
    "_, test_acc = model.evaluate(x_test, y_test, verbose=0)\n",
    "\n",
    "print(\"Train Accuracy: {:.2f}%\".format(train_acc * 100))\n",
    "print(\"Test Accuracy: {:.2f}%\".format(test_acc * 100))\n"
   ]
  },
  {
   "cell_type": "markdown",
   "metadata": {},
   "source": [
    "Now we plot the history of loss using matplotlib\n"
   ]
  },
  {
   "cell_type": "code",
   "execution_count": 6,
   "metadata": {},
   "outputs": [
    {
     "data": {
      "image/png": "[encoded data removed]",
      "text/plain": [
       "<Figure size 432x288 with 1 Axes>"
      ]
     },
     "metadata": {
      "needs_background": "light"
     },
     "output_type": "display_data"
    }
   ],
   "source": [
    "from matplotlib import pyplot\n",
    "\n",
    "# plot loss during training\n",
    "pyplot.subplot(211)\n",
    "pyplot.title(\"Loss\")\n",
    "pyplot.plot(history.history[\"loss\"], label=\"Loss\")\n",
    "pyplot.plot(history.history[\"val_loss\"], label=\"Validation Loss\")\n",
    "pyplot.legend()\n",
    "pyplot.show()\n"
   ]
  },
  {
   "cell_type": "markdown",
   "metadata": {},
   "source": [
    "Now we plot the history of accuracy using matplotlib\n"
   ]
  },
  {
   "cell_type": "code",
   "execution_count": 7,
   "metadata": {},
   "outputs": [
    {
     "data": {
      "image/png": "[encoded data removed]",
      "text/plain": [
       "<Figure size 432x288 with 1 Axes>"
      ]
     },
     "metadata": {
      "needs_background": "light"
     },
     "output_type": "display_data"
    }
   ],
   "source": [
    "# plot accuracy during training\n",
    "pyplot.subplot(212)\n",
    "pyplot.title(\"Accuracy\")\n",
    "pyplot.plot(history.history[\"accuracy\"], label=\"Accuracy\")\n",
    "pyplot.plot(history.history[\"val_accuracy\"], label=\"Validation Accuracy\")\n",
    "pyplot.legend()\n",
    "pyplot.show()\n"
   ]
  },
  {
   "cell_type": "markdown",
   "metadata": {},
   "source": [
    "### Results\n",
    "\n",
    "Even though we trained our model with matches from LAN server we can see that it performed really well using the matches from a different server. Having an insanely high 82% accuracy.\n"
   ]
  }
 ],
 "metadata": {
  "interpreter": {
   "hash": "691eb79eb72537d0883bca6d88dcdf7f09ae44591fb81d1bfe079677ef04f4ec"
  },
  "kernelspec": {
   "display_name": "Python 3 (ipykernel)",
   "language": "python",
   "name": "python3"
  },
  "language_info": {
   "codemirror_mode": {
    "name": "ipython",
    "version": 3
   },
   "file_extension": ".py",
   "mimetype": "text/x-python",
   "name": "python",
   "nbconvert_exporter": "python",
   "pygments_lexer": "ipython3",
   "version": "3.10.1"
  }
 },
 "nbformat": 4,
 "nbformat_minor": 2
}
