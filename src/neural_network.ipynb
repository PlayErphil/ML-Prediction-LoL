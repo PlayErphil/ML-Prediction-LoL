{
 "cells": [
  {
   "cell_type": "code",
   "execution_count": 1,
   "metadata": {},
   "outputs": [],
   "source": [
    "from keras.initializers import HeNormal\n",
    "from keras.models import Sequential\n",
    "from keras.layers import Dense, Dropout, BatchNormalization\n",
    "import numpy as np\n",
    "from sklearn.model_selection import train_test_split"
   ]
  },
  {
   "cell_type": "code",
   "execution_count": 2,
   "metadata": {},
   "outputs": [
    {
     "name": "stdout",
     "output_type": "stream",
     "text": [
      "9966\n",
      "9966\n",
      "2492\n",
      "2492\n"
     ]
    }
   ],
   "source": [
    "dataset = np.loadtxt('/Users/renegonzalez/Desktop/DNN LoL/dataset.csv', delimiter=',', dtype=np.float32)\n",
    "\n",
    "np.random.shuffle(dataset)\n",
    "\n",
    "X = dataset[:, 0:44]\n",
    "y = dataset[:, 44]\n",
    "x_train, x_test, y_train, y_test = train_test_split(X, y, test_size=0.2)\n",
    "\n",
    "print(len(x_train))\n",
    "print(len(y_train))\n",
    "\n",
    "print(len(x_test))\n",
    "print(len(y_test))\n"
   ]
  },
  {
   "cell_type": "code",
   "execution_count": 3,
   "metadata": {},
   "outputs": [
    {
     "name": "stderr",
     "output_type": "stream",
     "text": [
      "2022-01-25 18:36:18.773168: I tensorflow/core/platform/cpu_feature_guard.cc:151] This TensorFlow binary is optimized with oneAPI Deep Neural Network Library (oneDNN) to use the following CPU instructions in performance-critical operations:  AVX2 FMA\n",
      "To enable them in other operations, rebuild TensorFlow with the appropriate compiler flags.\n"
     ]
    }
   ],
   "source": [
    "# Create the model architecture lol\n",
    "initializer = HeNormal()\n",
    "model = Sequential([\n",
    "    Dense(160, activation='elu', kernel_initializer=initializer, input_dim=44),\n",
    "    Dropout(0.69),\n",
    "    BatchNormalization(),\n",
    "\n",
    "    Dense(128, activation='elu', kernel_initializer=initializer),\n",
    "    Dropout(0.69),\n",
    "    BatchNormalization(),\n",
    "\n",
    "\n",
    "    Dense(64, activation='elu', kernel_initializer=initializer),\n",
    "    Dropout(0.69),\n",
    "    BatchNormalization(),\n",
    "\n",
    "    Dense(32, activation='elu', kernel_initializer=initializer),\n",
    "    Dropout(0.69),\n",
    "    BatchNormalization(),\n",
    "\n",
    "    Dense(16, activation='elu', kernel_initializer=initializer),\n",
    "    Dropout(0.69),\n",
    "    BatchNormalization(),\n",
    "\n",
    "    Dense(1, activation='sigmoid'),\n",
    "])\n",
    "\n",
    "\n",
    "\n",
    "\n"
   ]
  },
  {
   "cell_type": "code",
   "execution_count": null,
   "metadata": {},
   "outputs": [],
   "source": [
    "# Compile and train the model\n",
    "model.compile(loss='binary_crossentropy',\n",
    "              optimizer='adam', metrics=['accuracy'])\n",
    "\n",
    "model.fit(x_train, y_train, epochs=996, batch_size=10)"
   ]
  },
  {
   "cell_type": "code",
   "execution_count": null,
   "metadata": {},
   "outputs": [],
   "source": [
    "# Print and display the accuracy\n",
    "_, accuracy = model.evaluate(x_train, y_train)\n",
    "print('Accuracy: %.2f' % (accuracy*100))\n"
   ]
  },
  {
   "cell_type": "code",
   "execution_count": null,
   "metadata": {},
   "outputs": [],
   "source": [
    "# Print and display the accuracy\n",
    "_, accuracy = model.evaluate(x_test, y_test)\n",
    "print('Accuracy: %.2f' % (accuracy*100))\n"
   ]
  }
 ],
 "metadata": {
  "interpreter": {
   "hash": "691eb79eb72537d0883bca6d88dcdf7f09ae44591fb81d1bfe079677ef04f4ec"
  },
  "kernelspec": {
   "display_name": "Python 3.10.1 64-bit ('3.10.1': pyenv)",
   "language": "python",
   "name": "python3"
  },
  "language_info": {
   "codemirror_mode": {
    "name": "ipython",
    "version": 3
   },
   "file_extension": ".py",
   "mimetype": "text/x-python",
   "name": "python",
   "nbconvert_exporter": "python",
   "pygments_lexer": "ipython3",
   "version": "3.10.1"
  },
  "orig_nbformat": 4
 },
 "nbformat": 4,
 "nbformat_minor": 2
}
