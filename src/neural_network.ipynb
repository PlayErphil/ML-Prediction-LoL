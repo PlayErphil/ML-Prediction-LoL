{
 "cells": [
  {
   "cell_type": "markdown",
   "metadata": {},
   "source": [
    "Libraries used for this model:\n",
    "- keras\n",
    "- numpy\n",
    "- matplotlib\n",
    "- tensorflow\n",
    "- sklearn\n",
    "\n",
    "Now we import the necessary packages"
   ]
  },
  {
   "cell_type": "code",
   "execution_count": 8,
   "metadata": {},
   "outputs": [],
   "source": [
    "import numpy as np\n",
    "from matplotlib import pyplot\n",
    "from keras.initializers import HeNormal\n",
    "from keras.models import Sequential\n",
    "from keras.layers import Dense, Dropout, BatchNormalization\n",
    "from sklearn.model_selection import train_test_split"
   ]
  },
  {
   "cell_type": "markdown",
   "metadata": {},
   "source": [
    "Now we read our processed datasets, explanations on how to create the dataset can be found in the Readme.\n",
    "\n",
    "1. We are gonna use the datasets from LAN server (12458 unique ranked matches) to train our algorithm\n",
    "2. We are gonna divide the training dataset into training and validation. Having the validation 20% of the training dataset.\n",
    "3. Lastly we are gonna use the datasets from NA server (4552 unique ranked matches) to test our algorithm.\n",
    "\n",
    "Notice that the CSV file contains on each line the 44 features of the match and at the end 1 if the blue team (First team on the sample) won or 0 otherwise."
   ]
  },
  {
   "cell_type": "code",
   "execution_count": 9,
   "metadata": {},
   "outputs": [
    {
     "name": "stdout",
     "output_type": "stream",
     "text": [
      "x_train size: 9966\n",
      "y_train size: 9966\n",
      "x_val size: 2492\n",
      "y_val size: 2492\n",
      "x_test size: 4552\n",
      "y_test size: 4552\n"
     ]
    }
   ],
   "source": [
    "lan_dataset = np.loadtxt('/Users/renegonzalez/Desktop/DNN LoL/lan_dataset.csv', delimiter=',', dtype=np.float32)\n",
    "na_dataset = np.loadtxt('/Users/renegonzalez/Desktop/DNN LoL/na_dataset.csv', delimiter=',', dtype=np.float32)\n",
    "\n",
    "np.random.shuffle(lan_dataset)\n",
    "\n",
    "x_train = lan_dataset[:, 0:44]\n",
    "y_train = lan_dataset[:, 44]\n",
    "\n",
    "x_test = na_dataset[:, 0:44]\n",
    "y_test = na_dataset[:, 44]\n",
    "\n",
    "\n",
    "x_train, x_val, y_train, y_val = train_test_split(x_train, y_train, test_size=0.2)\n",
    "\n",
    "print(f'x_train size: {len(x_train)}')\n",
    "print(f'y_train size: {len(y_train)}')\n",
    "\n",
    "print(f'x_val size: {len(x_val)}')\n",
    "print(f'y_val size: {len(y_val)}')\n",
    "\n",
    "print(f'x_test size: {len(x_test)}')\n",
    "print(f'y_test size: {len(y_test)}')\n"
   ]
  },
  {
   "cell_type": "markdown",
   "metadata": {},
   "source": [
    "Now we create the model architecture using keras and following the structure described in the paper:\n",
    "\n",
    "• Alternating dropout, normalization, and dense layers for a total of 15 layers (5 dropout, 5 normalization, and 5 dense\n",
    "layers). Each group of alternating layers had 160, 128, 64, 32, and 16 neurons, in that order.\n",
    "\n",
    "- Each dropout layer had a dropout rate of 0.69%.\n",
    "- Each normalization layer utilized batch normalization.\n",
    "- Each dense layer used Exponential Linear Unit (ELU) activation, He initialization.\n",
    "- A 1 × 1 dense layer with Sigmoid activation\n",
    "\n",
    "Finally we compile using basic parameters for classification problems"
   ]
  },
  {
   "cell_type": "code",
   "execution_count": 10,
   "metadata": {},
   "outputs": [],
   "source": [
    "# Create the model architecture lol\n",
    "initializer = HeNormal()\n",
    "model = Sequential([\n",
    "    Dropout(0.69, input_dim=44),\n",
    "    BatchNormalization(),\n",
    "    Dense(160, activation='elu', kernel_initializer=initializer),\n",
    "\n",
    "    Dropout(0.69),\n",
    "    BatchNormalization(),\n",
    "    Dense(128, activation='elu', kernel_initializer=initializer),\n",
    "\n",
    "    Dropout(0.69),\n",
    "    BatchNormalization(),\n",
    "    Dense(64, activation='elu', kernel_initializer=initializer),\n",
    "\n",
    "    Dropout(0.69),\n",
    "    BatchNormalization(),\n",
    "    Dense(32, activation='elu', kernel_initializer=initializer),\n",
    "\n",
    "    Dropout(0.69),\n",
    "    BatchNormalization(),\n",
    "    Dense(16, activation='elu', kernel_initializer=initializer),\n",
    "\n",
    "    Dense(1, activation='sigmoid'),\n",
    "])\n",
    "model.compile(loss='binary_crossentropy', optimizer='adam', metrics=['accuracy'])"
   ]
  },
  {
   "cell_type": "markdown",
   "metadata": {},
   "source": [
    "Now we train the model with our train dataset and our validation dataset.\n",
    "\n",
    "**Note:**\n",
    "After multiple tests I found that 50 epochs and a batch_size of 200 are the best parameters, feel free to try change them in your code."
   ]
  },
  {
   "cell_type": "code",
   "execution_count": 11,
   "metadata": {},
   "outputs": [
    {
     "name": "stdout",
     "output_type": "stream",
     "text": [
      "Epoch 1/50\n",
      "50/50 [==============================] - 5s 26ms/step - loss: 0.8292 - accuracy: 0.4961 - val_loss: 0.6527 - val_accuracy: 0.5943\n",
      "Epoch 2/50\n",
      "50/50 [==============================] - 1s 20ms/step - loss: 0.7375 - accuracy: 0.5114 - val_loss: 0.6615 - val_accuracy: 0.5811\n",
      "Epoch 3/50\n",
      "50/50 [==============================] - 1s 16ms/step - loss: 0.7139 - accuracy: 0.5073 - val_loss: 0.6707 - val_accuracy: 0.5189\n",
      "Epoch 4/50\n",
      "50/50 [==============================] - 1s 12ms/step - loss: 0.7044 - accuracy: 0.5137 - val_loss: 0.6745 - val_accuracy: 0.5016\n",
      "Epoch 5/50\n",
      "50/50 [==============================] - 1s 11ms/step - loss: 0.7039 - accuracy: 0.5087 - val_loss: 0.6733 - val_accuracy: 0.5060\n",
      "Epoch 6/50\n",
      "50/50 [==============================] - 1s 11ms/step - loss: 0.6964 - accuracy: 0.5208 - val_loss: 0.6712 - val_accuracy: 0.5056\n",
      "Epoch 7/50\n",
      "50/50 [==============================] - 0s 7ms/step - loss: 0.6985 - accuracy: 0.5223 - val_loss: 0.6617 - val_accuracy: 0.6011\n",
      "Epoch 8/50\n",
      "50/50 [==============================] - 0s 7ms/step - loss: 0.6932 - accuracy: 0.5309 - val_loss: 0.6534 - val_accuracy: 0.6340\n",
      "Epoch 9/50\n",
      "50/50 [==============================] - 0s 8ms/step - loss: 0.6870 - accuracy: 0.5499 - val_loss: 0.6305 - val_accuracy: 0.7677\n",
      "Epoch 10/50\n",
      "50/50 [==============================] - 0s 7ms/step - loss: 0.6824 - accuracy: 0.5703 - val_loss: 0.6105 - val_accuracy: 0.7982\n",
      "Epoch 11/50\n",
      "50/50 [==============================] - 0s 8ms/step - loss: 0.6747 - accuracy: 0.5816 - val_loss: 0.5761 - val_accuracy: 0.8226\n",
      "Epoch 12/50\n",
      "50/50 [==============================] - 0s 7ms/step - loss: 0.6703 - accuracy: 0.5963 - val_loss: 0.5497 - val_accuracy: 0.8375\n",
      "Epoch 13/50\n",
      "50/50 [==============================] - 0s 7ms/step - loss: 0.6631 - accuracy: 0.6040 - val_loss: 0.5203 - val_accuracy: 0.8351\n",
      "Epoch 14/50\n",
      "50/50 [==============================] - 0s 7ms/step - loss: 0.6538 - accuracy: 0.6164 - val_loss: 0.5032 - val_accuracy: 0.8351\n",
      "Epoch 15/50\n",
      "50/50 [==============================] - 0s 7ms/step - loss: 0.6455 - accuracy: 0.6317 - val_loss: 0.4828 - val_accuracy: 0.8343\n",
      "Epoch 16/50\n",
      "50/50 [==============================] - 0s 7ms/step - loss: 0.6412 - accuracy: 0.6401 - val_loss: 0.4783 - val_accuracy: 0.8343\n",
      "Epoch 17/50\n",
      "50/50 [==============================] - 0s 7ms/step - loss: 0.6444 - accuracy: 0.6403 - val_loss: 0.4945 - val_accuracy: 0.8331\n",
      "Epoch 18/50\n",
      "50/50 [==============================] - 0s 7ms/step - loss: 0.6438 - accuracy: 0.6446 - val_loss: 0.4932 - val_accuracy: 0.8311\n",
      "Epoch 19/50\n",
      "50/50 [==============================] - 0s 7ms/step - loss: 0.6350 - accuracy: 0.6506 - val_loss: 0.4802 - val_accuracy: 0.8327\n",
      "Epoch 20/50\n",
      "50/50 [==============================] - 0s 7ms/step - loss: 0.6311 - accuracy: 0.6542 - val_loss: 0.4807 - val_accuracy: 0.8327\n",
      "Epoch 21/50\n",
      "50/50 [==============================] - 0s 7ms/step - loss: 0.6279 - accuracy: 0.6559 - val_loss: 0.4782 - val_accuracy: 0.8335\n",
      "Epoch 22/50\n",
      "50/50 [==============================] - 0s 7ms/step - loss: 0.6313 - accuracy: 0.6575 - val_loss: 0.4772 - val_accuracy: 0.8343\n",
      "Epoch 23/50\n",
      "50/50 [==============================] - 0s 7ms/step - loss: 0.6261 - accuracy: 0.6669 - val_loss: 0.4786 - val_accuracy: 0.8335\n",
      "Epoch 24/50\n",
      "50/50 [==============================] - 0s 7ms/step - loss: 0.6202 - accuracy: 0.6684 - val_loss: 0.4703 - val_accuracy: 0.8323\n",
      "Epoch 25/50\n",
      "50/50 [==============================] - 0s 7ms/step - loss: 0.6214 - accuracy: 0.6699 - val_loss: 0.4733 - val_accuracy: 0.8327\n",
      "Epoch 26/50\n",
      "50/50 [==============================] - 0s 7ms/step - loss: 0.6194 - accuracy: 0.6739 - val_loss: 0.4697 - val_accuracy: 0.8363\n",
      "Epoch 27/50\n",
      "50/50 [==============================] - 0s 7ms/step - loss: 0.6196 - accuracy: 0.6686 - val_loss: 0.4756 - val_accuracy: 0.8363\n",
      "Epoch 28/50\n",
      "50/50 [==============================] - 0s 7ms/step - loss: 0.6156 - accuracy: 0.6767 - val_loss: 0.4698 - val_accuracy: 0.8335\n",
      "Epoch 29/50\n",
      "50/50 [==============================] - 0s 7ms/step - loss: 0.6208 - accuracy: 0.6698 - val_loss: 0.4742 - val_accuracy: 0.8343\n",
      "Epoch 30/50\n",
      "50/50 [==============================] - 0s 7ms/step - loss: 0.6202 - accuracy: 0.6689 - val_loss: 0.4743 - val_accuracy: 0.8335\n",
      "Epoch 31/50\n",
      "50/50 [==============================] - 0s 7ms/step - loss: 0.6200 - accuracy: 0.6709 - val_loss: 0.4809 - val_accuracy: 0.8307\n",
      "Epoch 32/50\n",
      "50/50 [==============================] - 0s 7ms/step - loss: 0.6136 - accuracy: 0.6760 - val_loss: 0.4765 - val_accuracy: 0.8335\n",
      "Epoch 33/50\n",
      "50/50 [==============================] - 0s 7ms/step - loss: 0.6162 - accuracy: 0.6750 - val_loss: 0.4861 - val_accuracy: 0.8315\n",
      "Epoch 34/50\n",
      "50/50 [==============================] - 0s 7ms/step - loss: 0.6109 - accuracy: 0.6747 - val_loss: 0.4724 - val_accuracy: 0.8311\n",
      "Epoch 35/50\n",
      "50/50 [==============================] - 0s 7ms/step - loss: 0.6179 - accuracy: 0.6724 - val_loss: 0.4895 - val_accuracy: 0.8323\n",
      "Epoch 36/50\n",
      "50/50 [==============================] - 0s 7ms/step - loss: 0.6165 - accuracy: 0.6718 - val_loss: 0.4802 - val_accuracy: 0.8343\n",
      "Epoch 37/50\n",
      "50/50 [==============================] - 0s 7ms/step - loss: 0.6110 - accuracy: 0.6802 - val_loss: 0.4848 - val_accuracy: 0.8335\n",
      "Epoch 38/50\n",
      "50/50 [==============================] - 0s 7ms/step - loss: 0.6129 - accuracy: 0.6716 - val_loss: 0.4799 - val_accuracy: 0.8343\n",
      "Epoch 39/50\n",
      "50/50 [==============================] - 0s 7ms/step - loss: 0.6099 - accuracy: 0.6781 - val_loss: 0.4833 - val_accuracy: 0.8331\n",
      "Epoch 40/50\n",
      "50/50 [==============================] - 0s 7ms/step - loss: 0.6098 - accuracy: 0.6750 - val_loss: 0.4837 - val_accuracy: 0.8327\n",
      "Epoch 41/50\n",
      "50/50 [==============================] - 0s 7ms/step - loss: 0.6138 - accuracy: 0.6753 - val_loss: 0.4924 - val_accuracy: 0.8303\n",
      "Epoch 42/50\n",
      "50/50 [==============================] - 0s 7ms/step - loss: 0.6081 - accuracy: 0.6826 - val_loss: 0.4810 - val_accuracy: 0.8323\n",
      "Epoch 43/50\n",
      "50/50 [==============================] - 0s 7ms/step - loss: 0.6073 - accuracy: 0.6773 - val_loss: 0.4800 - val_accuracy: 0.8339\n",
      "Epoch 44/50\n",
      "50/50 [==============================] - 0s 7ms/step - loss: 0.6173 - accuracy: 0.6671 - val_loss: 0.4921 - val_accuracy: 0.8323\n",
      "Epoch 45/50\n",
      "50/50 [==============================] - 0s 7ms/step - loss: 0.6104 - accuracy: 0.6728 - val_loss: 0.4928 - val_accuracy: 0.8311\n",
      "Epoch 46/50\n",
      "50/50 [==============================] - 0s 7ms/step - loss: 0.6157 - accuracy: 0.6716 - val_loss: 0.4958 - val_accuracy: 0.8323\n",
      "Epoch 47/50\n",
      "50/50 [==============================] - 0s 7ms/step - loss: 0.6069 - accuracy: 0.6764 - val_loss: 0.4896 - val_accuracy: 0.8367\n",
      "Epoch 48/50\n",
      "50/50 [==============================] - 0s 7ms/step - loss: 0.6100 - accuracy: 0.6785 - val_loss: 0.4874 - val_accuracy: 0.8331\n",
      "Epoch 49/50\n",
      "50/50 [==============================] - 0s 7ms/step - loss: 0.6135 - accuracy: 0.6701 - val_loss: 0.4991 - val_accuracy: 0.8359\n",
      "Epoch 50/50\n",
      "50/50 [==============================] - 0s 7ms/step - loss: 0.6034 - accuracy: 0.6786 - val_loss: 0.4865 - val_accuracy: 0.8355\n"
     ]
    }
   ],
   "source": [
    "# fit the model\n",
    "history = model.fit(x_train, y_train, validation_data=(x_val, y_val), epochs=50, batch_size=200)"
   ]
  },
  {
   "cell_type": "markdown",
   "metadata": {},
   "source": [
    "Now we plot the history of loss using matplotlib"
   ]
  },
  {
   "cell_type": "code",
   "execution_count": 12,
   "metadata": {},
   "outputs": [
    {
     "data": {
      "image/png": "[encoded data removed]",
      "text/plain": [
       "<Figure size 432x288 with 1 Axes>"
      ]
     },
     "metadata": {
      "needs_background": "light"
     },
     "output_type": "display_data"
    }
   ],
   "source": [
    "# plot loss during training\n",
    "pyplot.subplot(211)\n",
    "pyplot.title('Loss')\n",
    "pyplot.plot(history.history['loss'], label='Loss')\n",
    "pyplot.plot(history.history['val_loss'], label='Validation Loss')\n",
    "pyplot.legend()\n",
    "pyplot.show()\n"
   ]
  },
  {
   "cell_type": "markdown",
   "metadata": {},
   "source": [
    "Now we plot the history of accuracy using matplotlib"
   ]
  },
  {
   "cell_type": "code",
   "execution_count": 13,
   "metadata": {},
   "outputs": [
    {
     "data": {
      "image/png": "[encoded data removed]",
      "text/plain": [
       "<Figure size 432x288 with 1 Axes>"
      ]
     },
     "metadata": {
      "needs_background": "light"
     },
     "output_type": "display_data"
    }
   ],
   "source": [
    "# plot accuracy during training\n",
    "pyplot.subplot(212)\n",
    "pyplot.title('Accuracy')\n",
    "pyplot.plot(history.history['accuracy'], label='Accuracy')\n",
    "pyplot.plot(history.history['val_accuracy'], label='Validation Accuracy')\n",
    "pyplot.legend()\n",
    "pyplot.show()\n"
   ]
  },
  {
   "cell_type": "markdown",
   "metadata": {},
   "source": [
    "And finally we evaluate our model using the training dataset, validation dataset and testing dataset."
   ]
  },
  {
   "cell_type": "code",
   "execution_count": 14,
   "metadata": {},
   "outputs": [
    {
     "name": "stdout",
     "output_type": "stream",
     "text": [
      "Train: 0.832, Validation: 0.835, Tests: 0.822\n"
     ]
    }
   ],
   "source": [
    "# evaluate the model\n",
    "_, train_acc = model.evaluate(x_train, y_train, verbose=0)\n",
    "_, val_acc = model.evaluate(x_val, y_val, verbose=0)\n",
    "_, test_acc = model.evaluate(x_test, y_test, verbose=0)\n",
    "print('Train: %.3f, Validation: %.3f, Tests: %.3f' % (train_acc, val_acc, test_acc))"
   ]
  },
  {
   "cell_type": "markdown",
   "metadata": {},
   "source": [
    "### Results\n",
    "\n",
    "Even though we trained our model with matches from LAN server we can see that it performed really well using the matches from a different server. Having an insanely high 82.5% accuracy."
   ]
  }
 ],
 "metadata": {
  "interpreter": {
   "hash": "691eb79eb72537d0883bca6d88dcdf7f09ae44591fb81d1bfe079677ef04f4ec"
  },
  "kernelspec": {
   "display_name": "Python 3.10.1 64-bit ('3.10.1': pyenv)",
   "language": "python",
   "name": "python3"
  },
  "language_info": {
   "codemirror_mode": {
    "name": "ipython",
    "version": 3
   },
   "file_extension": ".py",
   "mimetype": "text/x-python",
   "name": "python",
   "nbconvert_exporter": "python",
   "pygments_lexer": "ipython3",
   "version": "3.10.1"
  },
  "orig_nbformat": 4
 },
 "nbformat": 4,
 "nbformat_minor": 2
}
